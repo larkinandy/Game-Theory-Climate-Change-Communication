{
 "cells": [
  {
   "cell_type": "markdown",
   "metadata": {},
   "source": [
    "# Game theory script #\n",
    "Author: Andrew Larkin <br>\n",
    "Developed for Applied Game Theory, Johns Hopkins, Spring 2018 <br>\n",
    "\n",
    "**Summary** <br>\n",
    "This script performs multiple repeated games for pro and anti climate change actors who can interact with media that are pro- and anti-climate change regulation.  Models are run for each state using Yale climate communication estimates of party-stratified support for regulation (http://www.pewforum.org/religious-landscape-study/compare/party-affiliation/by/state/) and Pew Internet Reserach center estimates of party affiliation (http://www.pewforum.org/religious-landscape-study/compare/party-affiliation/by/state).\n"
   ]
  },
  {
   "cell_type": "markdown",
   "metadata": {},
   "source": [
    "### Import Modules and define filepaths ###"
   ]
  },
  {
   "cell_type": "code",
   "execution_count": null,
   "metadata": {
    "collapsed": true
   },
   "outputs": [],
   "source": [
    "from copy import deepcopy\n",
    "import numpy as np\n",
    "import pandas as ps"
   ]
  },
  {
   "cell_type": "markdown",
   "metadata": {},
   "source": [
    "### define filepaths, constants, and load data ###"
   ]
  },
  {
   "cell_type": "code",
   "execution_count": null,
   "metadata": {
    "collapsed": false
   },
   "outputs": [],
   "source": [
    "Parent_Folder = \"D:/Dropbox/Dropbox/GameTheory/Project/\"\n",
    "Party_Climate_Support_CSV = Parent_Folder + \"ClimateChangePercents.csv\" # Yale 2016 Climate Change Opinion Estimates\n",
    "Party_Fractions_CSV = Parent_Folder + \"PartyAffiliationFractions.csv\" # Pew Reserach Center 2014 State Party Affiliations\n",
    "\n",
    "Climate_Support = ps.read_csv(Party_Climate_Support_CSV)\n",
    "Party_Fractions = ps.read_csv(Party_Fractions_CSV)\n",
    "\n",
    "OUTCOME_LIST = ['regulate','fundrenewables','happening','human','harmUS']\n",
    "\n",
    "#Climate_Support.head()\n",
    "Party_Fractions.head()"
   ]
  },
  {
   "cell_type": "markdown",
   "metadata": {},
   "source": [
    "### restructure input data into dictionaries for each political party ###\n",
    "\n",
    "**Inputs: ** <br>\n",
    "- In_Climate_Dataframe (dictionary) - pandas dataframe containing Yale Climate Change opinion data\n",
    "- In_Fraction_Dataframe (dictionary) - game number in a multi game sequence\n",
    "\n",
    "**Outputs: ** <br>\n",
    "- Dict_Dict (dictionary) - dictionary containing subdictionaries for each party affiliation"
   ]
  },
  {
   "cell_type": "code",
   "execution_count": null,
   "metadata": {
    "collapsed": true
   },
   "outputs": [],
   "source": [
    "def createAllPartyDicts(In_Climate_Dataframe,In_Fraction_Dataframe):\n",
    "    Rep_Dict = createSinglePartyDict(In_Climate_Dataframe,In_Fraction_Dataframe,\"Rep\")\n",
    "    Dem_Dict = createSinglePartyDict(In_Climate_Dataframe,In_Fraction_Dataframe,\"Dem\")\n",
    "    Indep_Dict = createSinglePartyDict(In_Climate_Dataframe,In_Fraction_Dataframe,\"Indep\") \n",
    "    Dict_Dict = {\"Rep_Dict\":Rep_Dict,\"Dem_Dict\":Dem_Dict,\"Indep_Dict\":Indep_Dict}\n",
    "    return(Dict_Dict)"
   ]
  },
  {
   "cell_type": "markdown",
   "metadata": {},
   "source": [
    "### setup numpy matrices for news media reputations for a single political party ###\n",
    "\n",
    "**Inputs: ** <br>\n",
    "- Party_Affilication (string) - designates which party the matrices are being created for.  Affects the starting media reputation scores\n",
    "\n",
    "**Outputs: ** <br>\n",
    "- Rep_Pro_News (numpy matrix) - reputation of pro climate change news outlets for each state and game \n",
    "- Rep_Anti_News (numpy matrix) - reputation of anti climate change news outlets for each state and game"
   ]
  },
  {
   "cell_type": "code",
   "execution_count": null,
   "metadata": {
    "collapsed": true
   },
   "outputs": [],
   "source": [
    "def createNewsMatrices(Party_Affiliation):\n",
    "    Rep_Anti_News = np.zeros(shape=(50,50))\n",
    "    Rep_Pro_News = np.zeros(shape=(50,50))\n",
    "    if(Party_Affiliation == \"Rep\"):   \n",
    "        pro_news_start = np.ones(shape=(1,50))*-0.5\n",
    "        anti_news_start = np.ones(shape=(1,50))*0.5\n",
    "    elif(Party_Affiliation == \"Dem\"):\n",
    "        pro_news_start = np.ones(shape=(1,50))*0.5\n",
    "        anti_news_start = np.ones(shape=(1,50))*-0.5\n",
    "    else:\n",
    "        pro_news_start = np.ones(shape=(1,50))*0.1\n",
    "        anti_news_start = np.ones(shape=(1,50))*0.1\n",
    "    Rep_Anti_News[:,0] = anti_news_start\n",
    "    Rep_Pro_News[:,0] = pro_news_start\n",
    "    return([Rep_Pro_News,Rep_Anti_News])"
   ]
  },
  {
   "cell_type": "markdown",
   "metadata": {},
   "source": [
    "### setup numpy matrices for a single opinion topic  for a single party ###\n",
    "\n",
    "**Inputs: ** <br>\n",
    "- Opinion (numpy matrix) - matrix to hold party opinions\n",
    "- Party_Affiliation (string) - which party to create the opinion matrix for\n",
    "- In_Climate_Dataframe (pandas dataframe) - Yale Climate Change data to initialize party opinions\n",
    "- Outcome (string) - which outcome to add to the opinion matrix\n",
    "- Outcome_Index (int) - the column in the Opinion matrix which corresponds to the current opinion to add"
   ]
  },
  {
   "cell_type": "code",
   "execution_count": 9,
   "metadata": {
    "collapsed": true
   },
   "outputs": [],
   "source": [
    "def createOpinionMatrix(Opinion,Party_Affiliation,In_Climate_Dataframe,Outcome,Outcome_Index):\n",
    "    if(Party_Affiliation in [\"Rep\",\"Dem\"]):\n",
    "        Party_Subset = In_Climate_Dataframe.loc[In_Climate_Dataframe['Group'] == Party_Affiliation]\n",
    "        Opinion[:,0,Outcome_Index] = (Party_Subset[Outcome]-50)/50.0\n",
    "    else:\n",
    "        Dem_Subset = In_Climate_Dataframe.loc[In_Climate_Dataframe['Group'] == \"Dem\"]\n",
    "        Rep_Subset = In_Climate_Dataframe.loc[In_Climate_Dataframe['Group'] == \"Rep\"]\n",
    "        Opinion[:,0,Outcome_Index] = ((np.add(Dem_Subset[Outcome],Rep_Subset[Outcome])/2.0)-50.0)/50.0"
   ]
  },
  {
   "cell_type": "markdown",
   "metadata": {},
   "source": [
    "###  create and initiailize matrix to store opinions for all states for one political party ###\n",
    "\n",
    "**Inputs: ** <br>\n",
    "- Outcome_List (string array) - topics to add to the opinion matrix\n",
    "- Party_Affiliation (string) - which party the outcome matrix is being created for \n",
    "- In_Climate_Dataframe (pandas dataframe) - dataframe containing Yale climate change survey data to populate the opinion matrix\n",
    "\n",
    "**Outputs: ** <br>\n",
    "- Party_Dict (dictionary) - dict containing the opinion matrix"
   ]
  },
  {
   "cell_type": "code",
   "execution_count": null,
   "metadata": {
    "collapsed": true
   },
   "outputs": [],
   "source": [
    "def createOutcomeMatrix(Outcome_List,Party_Affiliation,In_Climate_Dataframe):\n",
    "    Opinion = np.zeros(shape=(50,50,len(Outcome_List)))\n",
    "    Outcome_Index = 0\n",
    "    for outcome in OUTCOME_LIST:\n",
    "        createOpinionMatrix(Opinion,Party_Affiliation,In_Climate_Dataframe,outcome,Outcome_Index)\n",
    "        Outcome_Index +=1\n",
    "    Party_Dict = {'Opinion':Opinion}\n",
    "    return(Party_Dict)"
   ]
  },
  {
   "cell_type": "markdown",
   "metadata": {},
   "source": [
    "### create dictionary for a single party based on input data ###\n",
    "\n",
    "**Inputs: ** <br>\n",
    "- In_Climate_Dataframe (pandas dataframe) - dataframe containing Yale climate change survey data to populate the opinion matrix\n",
    "- In_Fraction_Dataframe (pandas dataframe) - dataframe containing party affiliation for each state\n",
    "- Party_Affiliation (string) - party affiliation\n",
    "\n",
    "**Outputs: ** <br>\n",
    "- Party_Dict (dictionary) - Party ditionary"
   ]
  },
  {
   "cell_type": "code",
   "execution_count": null,
   "metadata": {
    "collapsed": true
   },
   "outputs": [],
   "source": [
    "def createSinglePartyDict(In_Climate_Dataframe,In_Fraction_Dataframe,Party_Affiliation):\n",
    "    Party_Dict = createOutcomeMatrix(OUTCOME_LIST,Party_Affiliation,In_Climate_Dataframe)\n",
    "    [Rep_Pro_News,Rep_Anti_News] = createNewsMatrices(Party_Affiliation)\n",
    "    Fraction = np.zeros(shape=(50,1))\n",
    "    Fraction[:,0] = In_Fraction_Dataframe[Party_Affiliation]/100.0\n",
    "    Resiliance = np.zeros(shape=(50,50,len(OUTCOME_LIST)))\n",
    "    I_Agree_A1 = np.zeros(shape=(50,50,len(OUTCOME_LIST)))\n",
    "    I_Agree_A2 = np.zeros(shape=(50,50,len(OUTCOME_LIST)))\n",
    "    I_Media_Pro = np.zeros(shape=(50,50))\n",
    "    I_Media_Anti = np.zeros(shape=(50,50))\n",
    "    \n",
    "    Party_Dict.update({'Fraction':Fraction,'Rep_Anti_News':Rep_Anti_News,\n",
    "             'Rep_Pro_News': Rep_Pro_News, 'Resiliance':Resiliance, 'I_Agree_A1':I_Agree_A1,\n",
    "             'I_Agree_A2':I_Agree_A2,'I_Media_Pro':I_Media_Pro,'I_Media_Anti':I_Media_Anti})\n",
    "    return(Party_Dict)"
   ]
  },
  {
   "cell_type": "markdown",
   "metadata": {},
   "source": [
    "### calculate Resiliance for a single political party ###\n",
    "\n",
    "**Inputs: ** <br>\n",
    "- Party_Dict (dictionary) - contains party specific game attributes\n",
    "- Game_Index (int) - most recent game number"
   ]
  },
  {
   "cell_type": "code",
   "execution_count": null,
   "metadata": {
    "collapsed": true
   },
   "outputs": [],
   "source": [
    "def calcResilianceOneParty(Party_Dict,Game_Index,debug=\"None\"):\n",
    "    Opinion3DMatrix = Party_Dict['Opinion']\n",
    "    #Resiliance = np.exp(-abs(Opinion3DMatrix[:,Game_Index,:]))\n",
    "    #Resiliance = numpy.exp(-abs(Opinion[Curr_Index]))\n",
    "    Party_Dict['Resiliance'][:,Game_Index,:] = np.exp(-abs(Opinion3DMatrix[:,Game_Index,:]))\n",
    "    if(debug != \"None\"):\n",
    "        print(\"Opinion\")\n",
    "        print(Opinion3DMatrix[25,Game_Index,:])\n",
    "        print(\"TestResiliance\")\n",
    "        print(Party_Dict['Resiliance'][25,Game_Index,:])"
   ]
  },
  {
   "cell_type": "markdown",
   "metadata": {},
   "source": [
    "### calculate Resiliance for all political parties ###\n",
    "\n",
    "**Inputs: ** <br>\n",
    "- Dict_Dict (dictionary) - contains subdictionaries for each political party\n",
    "- Game_Index (int) - most recent game number"
   ]
  },
  {
   "cell_type": "code",
   "execution_count": null,
   "metadata": {
    "collapsed": true
   },
   "outputs": [],
   "source": [
    "def calcResilianceAllParties(Dict_Dict,Game_Index,debug=\"None\"):\n",
    "    calcResilianceOneParty(Dict_Dict['Rep_Dict'],Game_Index,debug)\n",
    "    calcResilianceOneParty(Dict_Dict['Dem_Dict'],Game_Index,debug)\n",
    "    calcResilianceOneParty(Dict_Dict['Indep_Dict'],Game_Index,debug)"
   ]
  },
  {
   "cell_type": "markdown",
   "metadata": {},
   "source": [
    "### calculate Agree for an actor and one game ###\n",
    "\n",
    "**Inputs: ** <br>\n",
    "- Party_Dict (dictionary) - Dictionary storing attributes for a single political party\n",
    "- Game_Index (int) - most recent game number\n",
    "- Actor_Opinion (string) - whether actor agrees or disagrees with the actor\n",
    "- Actor_Label (string) - label for current actor"
   ]
  },
  {
   "cell_type": "code",
   "execution_count": null,
   "metadata": {
    "collapsed": true
   },
   "outputs": [],
   "source": [
    "def calcAgreeOneParty(Party_Dict,Game_Index,Actor_Opinion,Actor_Label,debug=\"None\"):\n",
    "    Opinion3DMatrix = Party_Dict['Opinion']\n",
    "    Party_Dict[Actor_Label][:,Game_Index,:] = np.exp(-abs(Actor_Opinion-Opinion3DMatrix[:,Game_Index,:] ))\n",
    "    if(debug != \"None\"):\n",
    "        print(\"Opinion\")\n",
    "        print(Opinion3DMatrix[25,Game_Index,:])\n",
    "        print(\"IAgree\")\n",
    "        print(Party_Dict[Actor_Label][25,Game_Index,:])"
   ]
  },
  {
   "cell_type": "markdown",
   "metadata": {},
   "source": [
    "### calculate Agree for an actor and one game and all parties ###\n",
    "\n",
    "**Inputs: ** <br>\n",
    "- Dict_Dict (dictionary) - Dictionary containing subdictionaries for each political party\n",
    "- Game_Index (int) - most recent game number\n",
    "- Actor_Opinion (string) - whether actor agrees or disagrees with the actor\n",
    "- Actor_Label (string) - label for current actor"
   ]
  },
  {
   "cell_type": "code",
   "execution_count": null,
   "metadata": {
    "collapsed": true
   },
   "outputs": [],
   "source": [
    "def calcAgreeAllParties(Dict_Dict,Game_Index,Actor_Opinion,Actor_Label,debug=\"None\"):\n",
    "    calcAgreeOneParty(Dict_Dict['Rep_Dict'],Game_Index,Actor_Opinion,Actor_Label,debug)\n",
    "    calcAgreeOneParty(Dict_Dict['Dem_Dict'],Game_Index,Actor_Opinion,Actor_Label,debug)\n",
    "    calcAgreeOneParty(Dict_Dict['Indep_Dict'],Game_Index,Actor_Opinion,Actor_Label,debug)"
   ]
  },
  {
   "cell_type": "markdown",
   "metadata": {},
   "source": [
    "### calculate Media Impact for one game and all political parties ###\n",
    "\n",
    "**Inputs: ** <br>\n",
    "- Dict_Dict (dictionary) - Dictionary containing subdictionaries for each political party\n",
    "- Game_Index (int) - most recent game number\n",
    "- Media_Rep_Label (string) - media type preferred by political party\n",
    "- Media_Impact_Lebel (string) - media type (pro or anti climate chnage) to calculate impact for"
   ]
  },
  {
   "cell_type": "code",
   "execution_count": null,
   "metadata": {
    "collapsed": true
   },
   "outputs": [],
   "source": [
    "def calcMediaImpactAllParties(Dict_Dict,Game_Index,Media_Rep_Label,Media_Impact_Label,debug=\"None\"):\n",
    "    calcMediaImpactOneParty(Dict_Dict['Rep_Dict'],Game_Index,Media_Rep_Label,Media_Impact_Label,debug)\n",
    "    calcMediaImpactOneParty(Dict_Dict['Dem_Dict'],Game_Index,Media_Rep_Label,Media_Impact_Label,debug)\n",
    "    calcMediaImpactOneParty(Dict_Dict['Indep_Dict'],Game_Index,Media_Rep_Label,Media_Impact_Label,debug)"
   ]
  },
  {
   "cell_type": "markdown",
   "metadata": {},
   "source": [
    "### calculate Media Impact for one game and one political party ###\n",
    "\n",
    "**Inputs: ** <br>\n",
    "- Party_Dict (dictionary) - Dictionary containing game model attributes for a specific political party\n",
    "- Game_Index (int) - most recent game number\n",
    "- Media_Rep_Label (string) - media type preferred by political party\n",
    "- Media_Impact_Lebel (string) - media type (pro or anti climate chnage) to calculate impact for"
   ]
  },
  {
   "cell_type": "code",
   "execution_count": null,
   "metadata": {
    "collapsed": true
   },
   "outputs": [],
   "source": [
    "def calcMediaImpactOneParty(Party_Dict,Game_Index,Media_Rep_Label,Media_Impact_Label,debug=\"None\"):\n",
    "    Media_Rep = Party_Dict[Media_Rep_Label]\n",
    "    Party_Dict[Media_Impact_Label][:,Game_Index] = np.power(Media_Rep[:,Game_Index],3)\n",
    "    if(debug != \"None\"):\n",
    "        print(\"Media Rep:\")\n",
    "        print(Media_Rep[1:5,Game_Index])\n",
    "        print(\"Media Impact\")\n",
    "        print(Party_Dict[Media_Impact_Label][1:5,Game_Index])"
   ]
  },
  {
   "cell_type": "markdown",
   "metadata": {},
   "source": [
    "### calculate change in media reputation for one media type and all political parties ###\n",
    "\n",
    "**Inputs: ** <br>\n",
    "- Dict_Dict (dictionary) - Dictionary containing subdictionaries for each political party\n",
    "- Game_Index (int) - most recent game number\n",
    "- Actor_Dict (dictionary) - dictionary containing attributes specific to each actor\n",
    "- Actor_Party (string) - which political party is by default aligned with the actor"
   ]
  },
  {
   "cell_type": "code",
   "execution_count": null,
   "metadata": {
    "collapsed": true
   },
   "outputs": [],
   "source": [
    "def calcDeltaRepAllParties(Dict_Dict,Game_Index,Actor_Dict,Actor_Party):\n",
    "    if(Actor_Party=='repub'):\n",
    "        calcDeltaRepOneParty(Dict_Dict['Rep_Dict'],Game_Index,Actor_Dict,[-0.01,0.01])\n",
    "    else:\n",
    "        calcDeltaRepOneParty(Dict_Dict['Dem_Dict'],Game_Index,Actor_Dict,[0.01,-0.01])"
   ]
  },
  {
   "cell_type": "markdown",
   "metadata": {},
   "source": [
    "### calculate change in media reputation for one media type and one political party ###\n",
    "\n",
    "**Inputs: ** <br>\n",
    "- Party_Dict (dictionary) - Dictionary containing game model attributes specific to a political party\n",
    "- Game_Index (int) - most recent game number\n",
    "- Actor_Dict (dictionary) - dictionary containing attributes specific to each actor\n",
    "- Party_Drift (float) - natural drift in reputation toward political party affilitation"
   ]
  },
  {
   "cell_type": "code",
   "execution_count": null,
   "metadata": {
    "collapsed": true
   },
   "outputs": [],
   "source": [
    "def calcDeltaRepOneParty(Party_Dict,Game_Index,Actor_Dict,party_drift,debug=\"None\"):\n",
    "    expCalc = np.exp(Party_Dict['Rep_Pro_News'][:,Game_Index]*5)\n",
    "    denominator = np.power(1+expCalc,2)\n",
    "    DeltaReputation =np.divide(expCalc,denominator)\n",
    "    DeltaReputation = np.multiply(DeltaReputation,Actor_Dict['ProCoop'][:,Game_Index])\n",
    "    maxVals = np.ones(50)\n",
    "    minVals = maxVals*-1\n",
    "    maxVals2 = np.maximum(minVals,Party_Dict['Rep_Pro_News'][:,Game_Index] + DeltaReputation + party_drift[0] )\n",
    "    minVals2 = np.minimum(maxVals2,maxVals)\n",
    "    Party_Dict['Rep_Pro_News'][:,Game_Index+1] = minVals2\n",
    "                                                                                           # + DeltaReputation + party_drift[0]))\n",
    "    \n",
    "    expCalc = np.exp(Party_Dict['Rep_Anti_News'][:,Game_Index]*5)\n",
    "    denominator = np.power(1+expCalc,2)\n",
    "    DeltaReputation =np.divide(expCalc,denominator)\n",
    "    DeltaReputation = np.multiply(DeltaReputation,Actor_Dict['AntiCoop'][:,Game_Index])\n",
    "    maxVals2 = np.maximum(minVals,Party_Dict['Rep_Anti_News'][:,Game_Index] + DeltaReputation + party_drift[1] )\n",
    "    minVals2 = np.minimum(maxVals2,maxVals)\n",
    "    Party_Dict['Rep_Anti_News'][:,Game_Index+1] = minVals2\n",
    "\n",
    "    \n",
    "    if(debug!=\"None\"):\n",
    "        print(\"Reputation: \")\n",
    "        print(Party_Dict['Rep_Pro_News'][25,Game_Index])\n",
    "        print(\"Delta Reputation: \")\n",
    "        print(DeltaReputation[25])\n",
    "        print(\"New Reputation: \")\n",
    "        print(Party_Dict['Rep_Pro_News'][25,Game_Index+1])\n",
    "    \n",
    "    \n",
    "        "
   ]
  },
  {
   "cell_type": "markdown",
   "metadata": {},
   "source": [
    "### Calculate change in opinion for one political party ###\n",
    "\n",
    "**Inputs: ** <br>\n",
    "- Party_Dict (dictionary) - contains attributes specific to the political party\n",
    "- Game_Index (int) - game number in a multi game sequence\n",
    "- State_Index (int) - row corresponding to the current state of interest\n",
    "- Actor_Aggre_Label (string) - attribute name for the attribute in the dict containing the I_Agree values\n",
    "- Same_Party (boolean) - whether the actor represents the same political party as the current target population\n",
    "- ACtor_Pos (String) - whether the actor is for (\"Pro\") or against (\"Anti\") climate change regulation\n",
    "\n",
    "**Outputs: ** <br>\n",
    "- Pro_Utility_Matrix - Utility function inputs based on pro media communications\n",
    "- Anti_Utility_Matrix - Utility function inputs based on anti-media communications\n",
    "- Total_Utility_Matrix - Sum of Pro and Anti Utility Matrices"
   ]
  },
  {
   "cell_type": "code",
   "execution_count": null,
   "metadata": {
    "collapsed": true
   },
   "outputs": [],
   "source": [
    "def calcDeltaOpinion_1Actor_OneParty(Party_Dict,Game_Index,State_Index,Actor_Agree_Label,Same_Party,Actor_Pos,debug=\"None\"):\n",
    "    Multiplier = np.multiply(Party_Dict['Resiliance'][State_Index,Game_Index,:],\n",
    "                             Party_Dict[Actor_Agree_Label][State_Index,Game_Index,:])\n",
    "    Pro_Utility_Matrix = calc1Actor_1NewsUtilityMatrix(Party_Dict,'I_Media_Pro',Multiplier,Same_Party,State_Index,Game_Index,\n",
    "                                                       Actor_Pos,debug)\n",
    "    Anti_Utility_Matrix = calc1Actor_1NewsUtilityMatrix(Party_Dict,'I_Media_Anti',Multiplier,Same_Party,State_Index,Game_Index,\n",
    "                                                        Actor_Pos,debug)\n",
    "   \n",
    "    Total_Utility_Matrix = Anti_Utility_Matrix.T + Pro_Utility_Matrix\n",
    "    Total_Utility_Matrix = np.reshape(Total_Utility_Matrix,(1,36))\n",
    "    Pro_Utility_Matrix = np.reshape(Pro_Utility_Matrix,(1,36))\n",
    "    Anti_Utility_Matrix = np.reshape(Anti_Utility_Matrix,(1,36))\n",
    "    if(debug != \"None\"):\n",
    "        print(\"Total Utility Matrix:\")\n",
    "        print(Total_Utility_Matrix)\n",
    "    return([Pro_Utility_Matrix,Anti_Utility_Matrix,Total_Utility_Matrix])"
   ]
  },
  {
   "cell_type": "markdown",
   "metadata": {},
   "source": [
    "### Calculate utility function scores for one news media outlet type, one actor, and one political party ###\n",
    "\n",
    "**Inputs: ** <br>\n",
    "- Party_Dict (dictionary) - contains attributes specific to the political party\n",
    "- I_Media_Label (string) - whether media source is pro or anti climate change\n",
    "- Multiplier (float) - learning rate for a single game\n",
    "- Same_Party (boolean) - whether the actor represents the same political party as the current target population\n",
    "- State_Index (int) - row corresponding to the current state of interest\n",
    "- Game_Index (int) - game number\n",
    "- Actor_Pos (string) -whether actor is pro or anti- climate change\n",
    "\n",
    "**Outputs: ** <br>\n",
    "- Utility_Mat (numpy matrix) - utility function scores for all strategies"
   ]
  },
  {
   "cell_type": "code",
   "execution_count": null,
   "metadata": {
    "collapsed": true
   },
   "outputs": [],
   "source": [
    "def calc1Actor_1NewsUtilityMatrix(Party_Dict,I_Media_Label,Multiplier,Same_Party,State_Index,Game_Index,Actor_Pos,debug=\"None\"):\n",
    "    \n",
    "    Utility_Mat = np.ones(shape=(6,6))\n",
    "    I_Media = Party_Dict[I_Media_Label][State_Index,Game_Index]\n",
    "    if(Same_Party):\n",
    "        I_Media = abs(I_Media)\n",
    "    Temp_Mat = np.zeros(shape=(1,6))\n",
    "    Temp_Mat[:,0:5] = np.multiply(Multiplier,I_Media)\n",
    "    if(Actor_Pos == \"Pro\"):\n",
    "        MaxUtility = np.zeros(shape=(1,6))\n",
    "        MaxUtility[:,0:5] = 1-Party_Dict['Opinion'][State_Index,Game_Index,:]\n",
    "        Temp_Mat = np.minimum(MaxUtility,Temp_Mat)\n",
    "    else:\n",
    "        MinUtility = np.zeros(shape=(1,6))\n",
    "        MinUtility[:,0:5] =  np.abs(-1-Party_Dict['Opinion'][State_Index,Game_Index,:])\n",
    "        Temp_Mat = np.minimum(MinUtility,Temp_Mat)\n",
    "     \n",
    "    Utility_Mat = np.multiply(Temp_Mat,Utility_Mat)\n",
    "    \n",
    "    if(debug!=\"None\"):\n",
    "        print(\"News_Mat: \")\n",
    "        print(Utility_Mat)\n",
    "    return(Utility_Mat)"
   ]
  },
  {
   "cell_type": "markdown",
   "metadata": {},
   "source": [
    "### Calculate change in opinion for one actor and all parties ###\n",
    "\n",
    "**Inputs: ** <br>\n",
    "- Dict_Dict (dictionary) - dictionary with subdictionaries for each political party\n",
    "- Game_Index (int) - game number\n",
    "- State_Index (int) - row corresponding to the current state of interest\n",
    "- Actor_Agree_Label (string) - whether actor and default political party position are in alignment\n",
    "\n",
    "**Outputs: ** <br>\n",
    "- Utility_Dict (dictionary) - utility function scores for all strategies"
   ]
  },
  {
   "cell_type": "code",
   "execution_count": null,
   "metadata": {
    "collapsed": true
   },
   "outputs": [],
   "source": [
    "def calcDeltaOpinion_1Actor_AllParties(Dict_Dict,Game_Index,State_Index,Actor_Agree_Label,debug=\"None\"):\n",
    "    if(Actor_Agree_Label=='I_Agree_A2'):\n",
    "        [Rep_Pro_Utility, Rep_Anti_Utility,Rep_Utility] = calcDeltaOpinion_1Actor_OneParty(\n",
    "            Dict_Dict['Rep_Dict'],Game_Index,State_Index,Actor_Agree_Label,True,\"Anti\",debug)\n",
    "        [Dem_Pro_Utility, Dem_Anti_Utility,Dem_Utility] = calcDeltaOpinion_1Actor_OneParty(\n",
    "            Dict_Dict['Dem_Dict'],Game_Index,State_Index,Actor_Agree_Label,False,\"Anti\",debug)\n",
    "    else:\n",
    "        [Rep_Pro_Utility, Rep_Anti_Utility, Rep_Utility] = calcDeltaOpinion_1Actor_OneParty(\n",
    "            Dict_Dict['Rep_Dict'],Game_Index,State_Index,Actor_Agree_Label,False,\"Pro\",debug)\n",
    "        [Dem_Pro_Utility, Dem_Anti_Utility, Dem_Utility] = calcDeltaOpinion_1Actor_OneParty(\n",
    "            Dict_Dict['Dem_Dict'],Game_Index,State_Index,Actor_Agree_Label,True,\"Pro\",debug)\n",
    "    [Indep_Pro_Utility,Indep_Anti_Utility,Indep_Utility] = calcDeltaOpinion_1Actor_OneParty(\n",
    "        Dict_Dict['Indep_Dict'],Game_Index,State_Index,Actor_Agree_Label,True,\"Pro\",debug)\n",
    "    Utility_Dict = {'Rep_Pro':Rep_Pro_Utility,'Rep_Anti':Rep_Anti_Utility,'Rep_Utility':Rep_Utility,\n",
    "                    'Dem_Pro':Dem_Pro_Utility,'Dem_Anti':Dem_Anti_Utility,'Dem_Utility':Dem_Utility,\n",
    "                    'Indep_Pro':Indep_Pro_Utility,'Indep_Anti':Indep_Anti_Utility,'Indep_Utility':Indep_Utility}\n",
    "    return(Utility_Dict)"
   ]
  },
  {
   "cell_type": "markdown",
   "metadata": {},
   "source": [
    "### Calculate utility matrix for one actor and all political parties ###\n",
    "\n",
    "**Inputs: ** <br>\n",
    "- Dict_Dict (dictionary) - dictionary with subdictionaries for each political party\n",
    "- Delta_Opionion_Dict (dictionary) - dictionary containing utility matrices for all political parties\n",
    "- Game_Index (int) - game number\n",
    "- State_Index (int) - row corresponding to the current state of interest\n",
    "- Multiplier (float) - learning rate \n",
    "\n",
    "**Outputs: ** <br>\n",
    "- Total_Weighted_Utility (numpy matrixx) - Utility function scores for a single actor"
   ]
  },
  {
   "cell_type": "code",
   "execution_count": null,
   "metadata": {
    "collapsed": true
   },
   "outputs": [],
   "source": [
    "def calcActorUtilityMatrix(Dict_Dict,Delta_Opinion_Dict,Game_Index,State_Index,Multiplier,debug=\"None\"):\n",
    "    Republican_Utility = Dict_Dict['Rep_Dict']['Fraction'][State_Index]*Delta_Opinion_Dict['Rep_Utility']\n",
    "    Dem_Utility = Dict_Dict['Dem_Dict']['Fraction'][State_Index]*Delta_Opinion_Dict['Dem_Utility']\n",
    "    Indep_Utility = Dict_Dict['Indep_Dict']['Fraction'][State_Index]*Delta_Opinion_Dict['Indep_Utility']\n",
    "    Total_Weighted_Utility = Republican_Utility + Dem_Utility + Indep_Utility\n",
    "    Total_Weighted_Utility *=Multiplier\n",
    "    Total_Expanded_Utility = np.ones(shape=(36,36))\n",
    "    Total_Expanded_Utility = np.multiply(Total_Weighted_Utility,Total_Expanded_Utility)\n",
    "    \n",
    "    if(debug != \"None\"):\n",
    "        print(\"Total Weighted Utility: \")\n",
    "        print(Total_Weighted_Utility)\n",
    "        print(\"Total Expanded Utility: \")\n",
    "        print(Total_Expanded_Utility)\n",
    "    return(Total_Weighted_Utility)"
   ]
  },
  {
   "cell_type": "markdown",
   "metadata": {},
   "source": [
    "### Calculate Payoff matrix by calculating and summing utility functions for both actors ###\n",
    "\n",
    "**Inputs: ** <br>\n",
    "- Dict_Dict (dictionary) - dictionary with subdictionaries for each political party\n",
    "- A1_Delta_Opionion_Dict (dictionary) - change in opinion based on Actor 1 strategies\n",
    "- A2_Delta_Opionion_Dict (dictionary) - change in opinion based on Actor 1 strategies\n",
    "- Game_Index (int) - game number\n",
    "- State_Index (int) - row corresponding to the current state of interest\n",
    "\n",
    "**Outputs: ** <br>\n",
    "- Payoff_Matrix (numpy matrix) - payoff matrix "
   ]
  },
  {
   "cell_type": "code",
   "execution_count": null,
   "metadata": {
    "collapsed": true
   },
   "outputs": [],
   "source": [
    "def calcPayoffMatrix(Dict_Dict,A1_Delta_Opinion_Dict,A2_Delta_Opinion_Dict,Game_Index,State_Index,debug=\"None\"):\n",
    "    Total_A1_Utility = calcActorUtilityMatrix(Dict_Dict,A1_Delta_Opinion_Dict,Game_Index,State_Index,1,debug)\n",
    "    Total_A2_Utility = calcActorUtilityMatrix(Dict_Dict,A2_Delta_Opinion_Dict,Game_Index,State_Index,-1,debug)\n",
    "    Payoff_Matrix = Total_A1_Utility + Total_A2_Utility.T\n",
    "    \n",
    "    return(Payoff_Matrix)"
   ]
  },
  {
   "cell_type": "markdown",
   "metadata": {},
   "source": [
    "### Determine whether a strategy is dominated ###\n",
    "\n",
    "**Inputs: ** <br>\n",
    "- Payoff_Matrixx(numpy matrix) - payoff matrix\n",
    "- index (int) - strategy to determine if it is dominated\n",
    "\n",
    "**Outputs: ** <br>\n",
    "- Worst_Score (float) - return worst among all potential strategies"
   ]
  },
  {
   "cell_type": "code",
   "execution_count": null,
   "metadata": {
    "collapsed": true
   },
   "outputs": [],
   "source": [
    "def Is_Dominated(Payoff_Matrix,index,row=True):\n",
    "    Worst_Score = None\n",
    "    AxisVal = 1\n",
    "    if(row):\n",
    "        AxisVal = 0\n",
    "    if(row):\n",
    "        Strat_To_Test = Payoff_Matrix[index]\n",
    "        Worst_Score = 0\n",
    "    else:\n",
    "        Strat_To_Test = Payoff_Matrix[:,index]\n",
    "        Worst_Score = 0\n",
    "    for Compare_Index in range(0,Payoff_Matrix.shape[AxisVal]):\n",
    "        if(Compare_Index != index):\n",
    "            if(row):\n",
    "                Compare_Strat = Payoff_Matrix[Compare_Index]\n",
    "                if(np.alltrue(Compare_Strat < Strat_To_Test)):\n",
    "                    Worst_Score = min(sum(np.subtract(Compare_Strat, Strat_To_Test)),Worst_Score)\n",
    "            else:\n",
    "                Compare_Strat = Payoff_Matrix[:,Compare_Index]\n",
    "                if(np.alltrue(Compare_Strat > Strat_To_Test)):\n",
    "                    Worst_Score = max(sum(np.subtract(Compare_Strat,Strat_To_Test)), Worst_Score)\n",
    "    return Worst_Score\n",
    "    \n",
    "    "
   ]
  },
  {
   "cell_type": "markdown",
   "metadata": {},
   "source": [
    "### update change in opinion for one political party ###\n",
    "\n",
    "**Inputs: ** <br>\n",
    "- Party_Dict (dictionary) - dictionary with unique characteristics for each political party\n",
    "- A1_Move (dictionary) - move selected by actor 1\n",
    "- A2_Move (dictionary) - move selected by actor 2\n",
    "- A1_Party_DOpinion (numpy array) - change in party opinion based on actor 1 actions\n",
    "- A2_Party_DOpinion (numpy array) - change in party opinion based on actor 2 actions\n",
    "- Party (string) - which party's opinion is being updated\n",
    "- Game_Index (int) - game number\n",
    "- State_Index (float) - state index currently being analyzed"
   ]
  },
  {
   "cell_type": "code",
   "execution_count": null,
   "metadata": {
    "collapsed": true
   },
   "outputs": [],
   "source": [
    "def updateOpinionsOneParty(Party_Dict,A1_Move,A2_Move,A1_Party_DOpinion,A2_Party_DOpinion,Party,Game_Index,State_Index):\n",
    "    A1 = [0,0]\n",
    "    A2 = [0,0]\n",
    "    if(Party==\"Rep\"):\n",
    "        A1[0] = float(A1_Party_DOpinion['Rep_Pro'][0,A1_Move])\n",
    "        A1[1] = float(A1_Party_DOpinion['Rep_Anti'][0,A1_Move])\n",
    "        A2[0] = float(A2_Party_DOpinion['Rep_Pro'][0,A2_Move])*-1.0\n",
    "        A2[1] = float(A2_Party_DOpinion['Rep_Anti'][0,A2_Move])*-1.0\n",
    "    elif(Party==\"Dem\"):\n",
    "        A1[0] = float(A1_Party_DOpinion['Dem_Pro'][0,A1_Move])\n",
    "        A1[1] = float(A1_Party_DOpinion['Dem_Anti'][0,A1_Move])\n",
    "        A2[0] = float(A2_Party_DOpinion['Dem_Pro'][0,A2_Move])*-1.0\n",
    "        A2[1] = float(A2_Party_DOpinion['Dem_Anti'][0,A2_Move])*-1.0\n",
    "    else:\n",
    "        A1[0] = float(A1_Party_DOpinion['Indep_Pro'][0,A1_Move])\n",
    "        A1[1] = float(A1_Party_DOpinion['Indep_Anti'][0,A1_Move])\n",
    "        A2[0] = float(A2_Party_DOpinion['Indep_Pro'][0,A2_Move])*-1.0\n",
    "        A2[1] = float(A2_Party_DOpinion['Indep_Anti'][0,A2_Move])*-1.0\n",
    "    addVals(Party_Dict,State_Index,Game_Index,A1,A1_Move,True)\n",
    "    addVals(Party_Dict,State_Index,Game_Index,A2,A2_Move,False)"
   ]
  },
  {
   "cell_type": "markdown",
   "metadata": {},
   "source": [
    "### update opinion scores based on actor actions and consequent utilities ###\n",
    "\n",
    "**Inputs: ** <br>\n",
    "- Party_Dict (dictionary) - dictionary containing attributes unique to each political party\n",
    "- State_Index (int) - row corresponding to the current state of interest\n",
    "- Game_Index (int) - game number\n",
    "- Vals_To_Add (numpy array) - change in opinion score for all states\n",
    "- Move (integer) - move selected by actor\n",
    "- Is_New_State (boolean) - whether values to add to the state is a new state entry in the dataset\n",
    "- A1_Delta_Opionion_Dict (dictionary) - change in opinion based on Actor 1 strategies\n",
    "- A2_Delta_Opionion_Dict (dictionary) - change in opinion based on Actor 1 strategies"
   ]
  },
  {
   "cell_type": "code",
   "execution_count": null,
   "metadata": {
    "collapsed": true
   },
   "outputs": [],
   "source": [
    "def addVals(Party_Dict,State_Index,Game_Index,Vals_To_Add,Move,Is_New_State):\n",
    "    Learning_Rate = 1\n",
    "    for Outcome_Index in range(0,len(OUTCOME_LIST)):\n",
    "        AmtToAdd = 0\n",
    "        if(Move % len(OUTCOME_LIST) == 0):\n",
    "            AmtToAdd = Vals_To_Add[0]*Learning_Rate\n",
    "        elif(Vals_To_Add[0] != 0):\n",
    "            AmtToAdd += (0.0001 + Vals_To_Add[0]*Learning_Rate) /2.0\n",
    "        if(int(Move/len(OUTCOME_LIST)) == Outcome_Index):\n",
    "            AmtToAdd += Vals_To_Add[1]*Learning_Rate\n",
    "        elif(Vals_To_Add[1] != 0):\n",
    "            AmtToAdd += (0.0001 + Vals_To_Add[1]*Learning_Rate)/2.0\n",
    "        if(Is_New_State):\n",
    "            Temp_Vals = np.maximum(-1.0,np.minimum(\n",
    "                Party_Dict['Opinion'][State_Index,Game_Index,Outcome_Index] + AmtToAdd,1.0))\n",
    "        else:\n",
    "            Temp_Vals = np.maximum(-1.0,np.minimum(Party_Dict['Opinion'][State_Index,Game_Index+1,Outcome_Index] + AmtToAdd, 1.0))\n",
    "        Party_Dict['Opinion'][State_Index,Game_Index+1,Outcome_Index] = Temp_Vals"
   ]
  },
  {
   "cell_type": "markdown",
   "metadata": {},
   "source": [
    "### update change in opinion scores for all political parties ###\n",
    "\n",
    "**Inputs: ** <br>\n",
    "- Dict_Dict (dictionary) - dictionary with subdictionaries for each political party\n",
    "- A1_Move (int) - strategy selected by actor 1\n",
    "- A2_Move (int) - strategy selected by actor 2\n",
    "- A1_Opinion_Dict (dictionary) - Change in opinions caused by actor1 actions\n",
    "- A2_Opinion_Dict (dictionary) - Change in opinions caused by actor2 actions\n",
    "- Game_Index (int) - game number\n",
    "- State_Index (int) - row corresponding to the current state of interest\n",
    "\n",
    "**Outputs: ** <br>\n",
    "- Payoff_Matrix (numpy matrix) - payoff matrix "
   ]
  },
  {
   "cell_type": "code",
   "execution_count": null,
   "metadata": {
    "collapsed": true
   },
   "outputs": [],
   "source": [
    "def updateOpinionScoresAllParties(Dict_Dict,A1_Move,A2_Move,A1_Opinion_Dict,A2_Opinion_Dict,Game_Index,State_Index):\n",
    "    updateOpinionsOneParty(Dict_Dict['Rep_Dict'],A1_Move,A2_Move,A1_Opinion_Dict,\n",
    "                           A2_Opinion_Dict,\"Rep\",Game_Index,State_Index)\n",
    "    updateOpinionsOneParty(Dict_Dict['Dem_Dict'],A1_Move,A2_Move,A1_Opinion_Dict,\n",
    "                           A2_Opinion_Dict,\"Dem\",Game_Index,State_Index)\n",
    "    updateOpinionsOneParty(Dict_Dict['Indep_Dict'],A1_Move,A2_Move,A1_Opinion_Dict,\n",
    "                            A2_Opinion_Dict,\"Indep\",Game_Index,State_Index)\n",
    "    "
   ]
  },
  {
   "cell_type": "markdown",
   "metadata": {},
   "source": [
    "### find dominated strategies  ###\n",
    "\n",
    "**Inputs: ** <br>\n",
    "- Payoff_Matrix (numpy_array) - payoff matrix\n",
    "\n",
    "**Outputs: ** <br>\n",
    "- Worst_Index (integer) - the domainted strategy (if there is one) with the worst score"
   ]
  },
  {
   "cell_type": "code",
   "execution_count": null,
   "metadata": {
    "collapsed": true
   },
   "outputs": [],
   "source": [
    "def Find_Dominated(Payoff_Matrix,row=True):\n",
    "    if(row): \n",
    "        axis = 0 \n",
    "    else: \n",
    "        axis = 1\n",
    "    Worst_Score = [0]*Payoff_Matrix.shape[axis]\n",
    "    for Strategy_Index in range(0,Payoff_Matrix.shape[axis]):\n",
    "        Worst_Score[Strategy_Index] = abs(Is_Dominated(Payoff_Matrix,Strategy_Index,row))\n",
    "        #print(\"Worst Score for Strategy \" + str(Strategy_Index) + \": \" +\n",
    "        #      str(Worst_Score[Strategy_Index]))\n",
    "    Worst_Index = Worst_Score.index(max(Worst_Score))\n",
    "    if(Worst_Score[Worst_Index] == 0):\n",
    "        #print(\"No Dominated Strategy\")\n",
    "        return None\n",
    "    return(Worst_Index)\n",
    "        "
   ]
  },
  {
   "cell_type": "markdown",
   "metadata": {},
   "source": [
    "### perform backward induction to identify optimal strategies ###\n",
    "\n",
    "**Inputs: ** <br>\n",
    "- Payoff_Matrix (numpy array) - payoff matrix \n",
    "\n",
    "**Outputs: ** <br>\n",
    "- Payoff_Reduced (numpy matrix) - payoff matrix reduced to optimal strategy(ies)\n",
    "- Candidate_Rows (numpy array) - optimal actor 2 strategies\n",
    "- Candidate_Cols (numpy array) - optimal actor 1 strategies"
   ]
  },
  {
   "cell_type": "code",
   "execution_count": null,
   "metadata": {
    "collapsed": true
   },
   "outputs": [],
   "source": [
    "def Backward_Induction(Payoff_Matrix):\n",
    "    Payoff_Reduced = deepcopy(Payoff_Matrix)\n",
    "    Curr_Player_Row = True\n",
    "    Curr_Axis = 0\n",
    "    Candidate_Rows = range(0,36)\n",
    "    Candidate_Cols = range(0,36)\n",
    "    No_More_Dominated = 0\n",
    "    while(No_More_Dominated < 2):\n",
    "        Worst_Index = Find_Dominated(Payoff_Reduced,Curr_Player_Row)\n",
    "        if(Worst_Index != None):# and Payoff_Reduced.shape[Curr_Axis]>2):\n",
    "            Payoff_Reduced = np.delete(Payoff_Reduced, [Worst_Index], Curr_Axis)\n",
    "            if(Curr_Player_Row):\n",
    "                del(Candidate_Rows[Worst_Index])\n",
    "            else:\n",
    "                del(Candidate_Cols[Worst_Index])\n",
    "            No_More_Dominated = 0\n",
    "        else:\n",
    "            No_More_Dominated +=1\n",
    "        Curr_Player_Row = not Curr_Player_Row\n",
    "        Curr_Axis = (Curr_Axis+1) % 2\n",
    "    return([Payoff_Reduced,Candidate_Rows,Candidate_Cols])\n"
   ]
  },
  {
   "cell_type": "markdown",
   "metadata": {
    "collapsed": true
   },
   "source": [
    "### if there's no dominant strategy, randomly select among optimal strategies ###\n",
    "\n",
    "**Inputs: ** <br>\n",
    "- In_Row (numpy array) - integer array cotaning multiple actor 1 actions\n",
    "- In_Col (numpy array) - integer array cotaning multiple actor 1 actions\n",
    "\n",
    "**Outputs: ** <br>\n",
    "- Row (int) - randomly select actor 2 move\n",
    "- Col (int) - randomly selected actor 1 move"
   ]
  },
  {
   "cell_type": "code",
   "execution_count": null,
   "metadata": {
    "collapsed": true
   },
   "outputs": [],
   "source": [
    "def randomSelection(In_Row,In_Col):\n",
    "    Row = np.random.choice(In_Row, 1)\n",
    "    Col = np.random.choice(In_Col, 1)\n",
    "    return([Row,Col])"
   ]
  },
  {
   "cell_type": "markdown",
   "metadata": {},
   "source": [
    "### initialize game attributes ###"
   ]
  },
  {
   "cell_type": "code",
   "execution_count": null,
   "metadata": {
    "collapsed": true
   },
   "outputs": [],
   "source": [
    "def setupGame():\n",
    "    Dict_Dict = createAllPartyDicts(Climate_Support,Party_Fractions)\n",
    "    Actor1_Moves = np.zeros(shape=(50,50))\n",
    "    Actor1_Pro_Coop = np.zeros(shape=(50,50))\n",
    "    Actor1_Anti_Coop = np.zeros(shape=(50,50))\n",
    "    Actor1_Dict = {'Moves':Actor1_Moves,'ProCoop':Actor1_Pro_Coop,'AntiCoop':Actor1_Anti_Coop}\n",
    "    Actor2_Dict = deepcopy(Actor1_Dict)\n",
    "    return([Dict_Dict,Actor1_Dict,Actor2_Dict])"
   ]
  },
  {
   "cell_type": "markdown",
   "metadata": {},
   "source": [
    "### update acctor dictionary with most recent actions ###\n",
    "\n",
    "**Inputs: ** <br>\n",
    "- Actor1 (dictionary) - dictionary containing attributes specific to actor 1\n",
    "- Actor2 (dictionary) - dictionary containing attributes specific to actor 2\n",
    "- Row (int) - row in payoff matrix corresponding to actor 2 choice\n",
    "- Col (int) - column in payoff matrix corresponding to actor 2 choice\n",
    "- State_Index (int) - row number tht corresponds to the current state\n",
    "- Game_Index - game number"
   ]
  },
  {
   "cell_type": "code",
   "execution_count": null,
   "metadata": {
    "collapsed": true
   },
   "outputs": [],
   "source": [
    "def UpdateActorDicts(Actor1_Dict,Actor2_Dict,Row,Col,State_Index,Game_Index):\n",
    "    Actor1['Moves'][State_Index,Game_Index] = int(Col[0])\n",
    "    Actor2['Moves'][State_Index,Game_Index] = int(Row[0])\n",
    "    if(Col < 30):\n",
    "        Actor1['AntiCoop'][State_Index,Game_Index] = 1\n",
    "    else:\n",
    "        Actor1['AntiCoop'][State_Index,Game_Index] = -1 \n",
    "    if(Col %6 != 0 ):\n",
    "        Actor1['ProCoop'][State_Index,Game_Index] = 1\n",
    "    else:\n",
    "        Actor1['ProCoop'][State_Index,Game_Index] = -1\n",
    "    if(Row < 30):\n",
    "        Actor2['AntiCoop'][State_Index,Game_Index] = 1\n",
    "    else:\n",
    "        Actor2['AntiCoop'][State_Index,Game_Index] = -1 \n",
    "    if(Row %6 != 0 ):\n",
    "        Actor2['ProCoop'][State_Index,Game_Index] = 1\n",
    "    else:\n",
    "        Actor2['ProCoop'][State_Index,Game_Index] = -1"
   ]
  },
  {
   "cell_type": "markdown",
   "metadata": {},
   "source": [
    "### calculate game theory components that can't be vectorized ###\n",
    "\n",
    "**Inputs: ** <br>\n",
    "- Dict_Dict (dictionary) - dictionary with subdictionaries for each political party\n",
    "- Game_Index (int) - game number\n",
    "- State_Index (int) - row number that corresponds to the current state \n",
    "- Actor1 (dictionary) - dictionary containing attributes specific to actor 1\n",
    "- Actor2 (dictionary) - dictionary containing attributes specific to actor 2"
   ]
  },
  {
   "cell_type": "code",
   "execution_count": null,
   "metadata": {
    "collapsed": true
   },
   "outputs": [],
   "source": [
    "def runSingleState(Dict_Dict,Game_Index,State_Index,Actor1,Actor2):\n",
    "    for State_Index in range(0,50):\n",
    "        A1_Delta_Opinion_Dict = calcDeltaOpinion_1Actor_AllParties(Dict_Dict,Game_Index,State_Index,'I_Agree_A1')\n",
    "        A2_Delta_Opinion_Dict = calcDeltaOpinion_1Actor_AllParties(Dict_Dict,Game_Index,State_Index,'I_Agree_A2')\n",
    "        Payoff_Matrix = calcPayoffMatrix(Dict_Dict,A1_Delta_Opinion_Dict,A2_Delta_Opinion_Dict,Game_Index,State_Index)\n",
    "        [Payoff_Reduced, Row,Col] = Backward_Induction(Payoff_Matrix)\n",
    "        [Row,Col] = randomSelection(Row,Col)\n",
    "        UpdateActorDicts(Actor1,Actor2,Row,Col,State_Index,Game_Index)\n",
    "        updateOpinionScoresAllParties(Dict_Dict,Col,Row,A1_Delta_Opinion_Dict,A2_Delta_Opinion_Dict,\n",
    "                                      Game_Index,State_Index)"
   ]
  },
  {
   "cell_type": "markdown",
   "metadata": {},
   "source": [
    "### run a single game for a single state ###\n",
    "\n",
    "**Inputs: ** <br>\n",
    "- Dict_Dict (dictionary) - dictionary with subdictionaries for each political party\n",
    "- Actor1 (dictionary) - dictionary containing attributes specific to actor 1\n",
    "- Actor2 (dictionary) - dictionary containing attributes specific to actor 2"
   ]
  },
  {
   "cell_type": "code",
   "execution_count": null,
   "metadata": {
    "collapsed": true
   },
   "outputs": [],
   "source": [
    "def runSingleGame(Dict_Dict,Actor1,Actor2,Game_Index=0):\n",
    "    calcResilianceAllParties(Dict_Dict,Game_Index)\n",
    "    calcAgreeAllParties(Dict_Dict,Game_Index,1,\"I_Agree_A1\")\n",
    "    calcAgreeAllParties(Dict_Dict,Game_Index,-1,\"I_Agree_A2\")\n",
    "    calcMediaImpactAllParties(Dict_Dict,Game_Index,\"Rep_Pro_News\",\"I_Media_Pro\")\n",
    "    calcMediaImpactAllParties(Dict_Dict,Game_Index,\"Rep_Anti_News\",\"I_Media_Anti\")\n",
    "    runSingleState(Dict_Dict,Game_Index,25,Actor1,Actor2)\n",
    "    calcDeltaRepAllParties(Dict_Dict,Game_Index,Actor1,\"Dem\")\n",
    "    calcDeltaRepAllParties(Dict_Dict,Game_Index,Actor1,\"repub\")"
   ]
  },
  {
   "cell_type": "markdown",
   "metadata": {},
   "source": [
    "### retreospectively calculate which moves an actor chose for each state ###\n",
    "\n",
    "**Inputs: ** <br>\n",
    "- Actor_Dict (dictionary) - dictionary containing attributes specific to a player\n",
    "- outputFile (string) - complete filepath to location to write results in a csv file"
   ]
  },
  {
   "cell_type": "code",
   "execution_count": null,
   "metadata": {
    "collapsed": true
   },
   "outputs": [],
   "source": [
    "def calcActorMoves(Actor_Dict,outputFile):\n",
    "    sep = ','\n",
    "    new_line = '\\n'\n",
    "    fileWriter = open(outputFile,'w') \n",
    "    fileWriter.write(\"aReg,aRenew,aHappen,aHuman,aHarm,aNone,pReg,pRenew,pHappen,pHuman,pHarm,pNone \\n\")\n",
    "    for State_Index in range(0,50):\n",
    "        fileWriter.write(str(sum(Actor_Dict['Moves'][State_Index,0:25] < 6)) + sep)\n",
    "        fileWriter.write(str(sum((5 < Actor_Dict['Moves'][State_Index,0:25]) \\\n",
    "                             * (Actor_Dict['Moves'][State_Index,0:25] < 12))) + sep)\n",
    "        fileWriter.write(str(sum((11 < Actor_Dict['Moves'][State_Index,0:25] \\\n",
    "                             * (Actor_Dict['Moves'][State_Index,0:25] < 18)))) + sep)\n",
    "        fileWriter.write(str(sum((17 < Actor_Dict['Moves'][State_Index,0:25]) \\\n",
    "                                 * (Actor_Dict['Moves'][State_Index,0:25] < 24))) + sep)\n",
    "        fileWriter.write(str(sum((23 < Actor_Dict['Moves'][State_Index,0:25]) \\\n",
    "                                 * (Actor_Dict['Moves'][State_Index,0:25] < 30))) + sep)\n",
    "        fileWriter.write(str(sum((29 < Actor_Dict['Moves'][State_Index,0:25]))) + sep)\n",
    "        fileWriter.write(str(sum(Actor_Dict['Moves'][State_Index,0:25] %6 == 0)) + sep)\n",
    "        fileWriter.write(str(sum(Actor_Dict['Moves'][State_Index,0:25] %6 == 1)) + sep)\n",
    "        fileWriter.write(str(sum(Actor_Dict['Moves'][State_Index,0:25] %6 == 2)) + sep)\n",
    "        fileWriter.write(str(sum(Actor_Dict['Moves'][State_Index,0:25] %6 == 3)) + sep)\n",
    "        fileWriter.write(str(sum(Actor_Dict['Moves'][State_Index,0:25] %6 == 4)) + sep)\n",
    "        fileWriter.write(str(sum(Actor_Dict['Moves'][State_Index,0:25] %6 == 5)) + sep)\n",
    "        fileWriter.write(\"\\n\")            "
   ]
  },
  {
   "cell_type": "markdown",
   "metadata": {},
   "source": [
    "### main function ###"
   ]
  },
  {
   "cell_type": "code",
   "execution_count": null,
   "metadata": {
    "collapsed": true
   },
   "outputs": [],
   "source": [
    "Dict_Dict = createAllPartyDicts(Climate_Support,Party_Fractions)\n",
    "[Dict_Dict,Actor1,Actor2] = setupGame()\n",
    "for Game_Index in range(0,3):\n",
    "    runSingleGame(Dict_Dict,Actor1,Actor2,Game_Index)\n",
    "Dict_Dict['Rep_Dict']['Rep_Anti_News'][:,0]\n",
    "Payoff_Choice=(Backward_Induction(Dominated_Payoff))    \n",
    "DeltaDemOpinion = Dict_Dict['Dem_Dict']['Opinion'][:,24,:] - Dict_Dict['Dem_Dict']['Opinion'][:,0,:]\n",
    "DeltaRepOpinion = Dict_Dict['Rep_Dict']['Opinion'][:,24,:] - Dict_Dict['Rep_Dict']['Opinion'][:,0,:]\n",
    "\n",
    "np.savetxt(Parent_Folder + 'DemDeltaOpinion.csv', DeltaDemOpinion, delimiter=',')\n",
    "np.savetxt(Parent_Folder + 'RepDeltaOpinion.csv', DeltaRepOpinion, delimiter=',')\n",
    "\n",
    "calcActorMoves(Actor2,Parent_Folder + \"Actor1.csv\")\n",
    "calcActorMoves(Actor2,Parent_Folder + \"Actor2.csv\")\n",
    "\n",
    "\n",
    "np.savetxt(Parent_Folder + 'HawaiiReps.csv', Dict_Dict['Rep_Dict']['Opinion'][10,:,:], delimiter=',')\n",
    "np.savetxt(Parent_Folder + 'HawaiiDems.csv', Dict_Dict['Dem_Dict']['Opinion'][10,:,:], delimiter=',')\n",
    "np.savetxt(Parent_Folder + 'MontanaReps.csv', Dict_Dict['Rep_Dict']['Opinion'][25,:,:], delimiter=',')\n",
    "np.savetxt(Parent_Folder + 'MontanaDems.csv', Dict_Dict['Dem_Dict']['Opinion'][25,:,:], delimiter=',')"
   ]
  }
 ],
 "metadata": {
  "anaconda-cloud": {},
  "kernelspec": {
   "display_name": "Python [conda root]",
   "language": "python",
   "name": "conda-root-py"
  },
  "language_info": {
   "codemirror_mode": {
    "name": "ipython",
    "version": 3
   },
   "file_extension": ".py",
   "mimetype": "text/x-python",
   "name": "python",
   "nbconvert_exporter": "python",
   "pygments_lexer": "ipython3",
   "version": "3.5.2"
  }
 },
 "nbformat": 4,
 "nbformat_minor": 1
}
